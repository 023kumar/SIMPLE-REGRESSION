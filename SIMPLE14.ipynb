{
  "nbformat": 4,
  "nbformat_minor": 0,
  "metadata": {
    "colab": {
      "provenance": []
    },
    "kernelspec": {
      "name": "python3",
      "display_name": "Python 3"
    },
    "language_info": {
      "name": "python"
    }
  },
  "cells": [
    {
      "cell_type": "markdown",
      "source": [
        "Supervised Learning: Regression\n",
        "Models and Performance Metrics |Assignment Code: D-AG-008"
      ],
      "metadata": {
        "id": "rbaquSHzFinV"
      }
    },
    {
      "cell_type": "markdown",
      "source": [
        " 1 : What is Simple Linear Regression (SLR)? Explain its purpose.\n",
        "\n",
        " Simple Linear Regression (SLR) is a statistical technique used to model the relationship between two variables — one independent variable (X) and one dependent variable (Y). It assumes a straight-line relationship between them.\n",
        "The main purpose of SLR is to predict the value of Y based on a given value of X and to understand how X influences Y."
      ],
      "metadata": {
        "id": "uMa6qxOFFk-8"
      }
    },
    {
      "cell_type": "markdown",
      "source": [
        "2: What are the key assumptions of Simple Linear Regression?\n",
        "The key assumptions of Simple Linear Regression are:\n",
        "\n",
        "1.Linearity: The relationship between X and Y is linear.\n",
        "\n",
        "2.Independence: The observations are independent of each other.\n",
        "\n",
        "3.Homoscedasticity: The variance of errors is constant across all levels of X.\n",
        "\n",
        "4.Normality: The residuals (errors) are normally distributed.\n",
        "\n",
        "5.No multicollinearity: Not applicable in simple regression since there is only one X variable.\n"
      ],
      "metadata": {
        "id": "CSHkWCJjFv8k"
      }
    },
    {
      "cell_type": "markdown",
      "source": [
        " 3: Write the mathematical equation for a simple linear regression model and\n",
        "explain each term.\n",
        "\n",
        "The equation is:\n",
        "\n",
        "\n",
        "Where:\n",
        "\n",
        "1.Y → Dependent variable (predicted output)\n",
        "\n",
        "2.X → Independent variable (input feature)\n",
        "\n",
        "3.b₀ → Intercept (value of Y when X = 0)\n",
        "\n",
        "4.b₁ → Slope (change in Y for a one-unit change in X)\n",
        "\n",
        "5.ε (epsilon) → Random error term (difference between predicted and actual Y)"
      ],
      "metadata": {
        "id": "CCxbL95RF7St"
      }
    },
    {
      "cell_type": "markdown",
      "metadata": {
        "id": "620fe0ec"
      },
      "source": [
        "3: Write the mathematical equation for a simple linear regression model and\n",
        "explain each term.\n",
        "\n",
        "The equation is:\n",
        "\n",
        "$$Y = b₀ + b₁X + ε$$\n",
        "\n",
        "Where:\n",
        "\n",
        "1.Y → Dependent variable (predicted output)\n",
        "\n",
        "2.X → Independent variable (input feature)\n",
        "\n",
        "3.b₀ → Intercept (value of Y when X = 0)\n",
        "\n",
        "4.b₁ → Slope (change in Y for a one-unit change in X)\n",
        "\n",
        "5.ε (epsilon) → Random error term (difference between predicted and actual Y)"
      ]
    },
    {
      "cell_type": "markdown",
      "source": [
        "4: Provide a real-world example where simple linear regression can be\n",
        "applied.\n",
        "\n",
        "A real-world example is predicting a student’s exam score (Y) based on the number of study hours (X).\n",
        "If there is a positive linear relationship, more study hours generally lead to higher exam scores.\n"
      ],
      "metadata": {
        "id": "Lzxr5KJpGtCJ"
      }
    },
    {
      "cell_type": "markdown",
      "source": [
        "5: What is the method of least squares in linear regression?\n",
        "\n",
        "The method of least squares is used to find the best-fitting line in linear regression by minimizing the sum of squared differences between actual and predicted values.\n",
        "In simple terms, it adjusts the line so that the total error (difference between actual and predicted Y) is as small as possible."
      ],
      "metadata": {
        "id": "wuO7CpAwGxM3"
      }
    },
    {
      "cell_type": "markdown",
      "source": [
        " 6: What is Logistic Regression? How does it differ from Linear Regression?\n",
        "\n",
        "Logistic Regression is a supervised learning algorithm used for classification problems (e.g., predicting yes/no, spam/not spam).\n",
        "It uses the sigmoid function to predict probabilities between 0 and 1\n",
        "  \n"
      ],
      "metadata": {
        "id": "L5bgBEovG2ea"
      }
    },
    {
      "cell_type": "markdown",
      "source": [
        " 7: Name and briefly describe three common evaluation metrics for regression\n",
        "models.\n",
        "\n",
        "1.Mean Absolute Error (MAE): Average of the absolute differences between predicted and actual values.\n",
        "\n",
        "2.Mean Squared Error (MSE): Average of squared differences between predicted and actual values.\n",
        "\n",
        "3.R-squared (R²): Measures how well the regression line fits the data — shows the proportion of variance explained by the model."
      ],
      "metadata": {
        "id": "N4Zx8txSHQ24"
      }
    },
    {
      "cell_type": "markdown",
      "source": [
        "8: What is the purpose of the R-squared metric in regression analysis?\n",
        "\n",
        "R-squared (R²) shows how well the independent variable explains the variability of the dependent variable.\n",
        "It ranges from 0 to 1:\n",
        "\n",
        "1 → Perfect fit\n",
        "\n",
        "0 → No linear relationship\n",
        "For example, R² = 0.85 means 85% of the variation in Y is explained by X.\n"
      ],
      "metadata": {
        "id": "Q0_LDnErHcl2"
      }
    },
    {
      "cell_type": "markdown",
      "source": [
        " 9: Write Python code to fit a simple linear regression model using scikit-learn\n",
        "and print the slope and intercept."
      ],
      "metadata": {
        "id": "NTVfajXFHicA"
      }
    },
    {
      "cell_type": "code",
      "source": [
        "\n",
        "from sklearn.linear_model import LinearRegression\n",
        "from sklearn.model_selection import train_test_split\n",
        "from sklearn.datasets import load_diabetes\n",
        "\n",
        "data = load_diabetes()\n",
        "X = data.data[:, 2].reshape(-1, 1)\n",
        "y = data.target\n",
        "\n",
        "X_train, X_test, y_train, y_test = train_test_split(X, y, test_size=0.2, random_state=42)\n",
        "\n",
        "model = LinearRegression()\n",
        "model.fit(X_train, y_train)\n",
        "\n",
        "print(\"Slope (b1):\", model.coef_[0])\n",
        "print(\"Intercept (b0):\", model.intercept_)\n"
      ],
      "metadata": {
        "colab": {
          "base_uri": "https://localhost:8080/"
        },
        "id": "m2qMfop_HlRm",
        "outputId": "44ca9a91-4ff4-4bf7-bf35-5c52846deb14"
      },
      "execution_count": 1,
      "outputs": [
        {
          "output_type": "stream",
          "name": "stdout",
          "text": [
            "Slope (b1): 998.5776891375598\n",
            "Intercept (b0): 152.00335421448167\n"
          ]
        }
      ]
    },
    {
      "cell_type": "markdown",
      "source": [
        "10: How do you interpret the coefficients in a simple linear regression model?\n",
        "\n",
        "1.Slope (b₁): Indicates how much the dependent variable (Y) changes for a one-unit change in the independent variable (X).\n",
        "\n",
        "If b₁ = 2 → Y increases by 2 units for every 1 unit increase in X.\n",
        "\n",
        "2.Intercept (b₀): The predicted value of Y when X = 0.\n",
        "Together, they define the best-fit line used for making predictions.\n"
      ],
      "metadata": {
        "id": "QrqACG7kH2Eb"
      }
    }
  ]
}